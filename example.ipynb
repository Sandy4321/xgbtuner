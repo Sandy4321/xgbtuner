{
 "cells": [
  {
   "cell_type": "markdown",
   "metadata": {},
   "source": [
    "## Example:  tuning xgboost for multinomial regression"
   ]
  },
  {
   "cell_type": "markdown",
   "metadata": {},
   "source": [
    "Here is a basic example of using `xgbtuner` to optimize the parameters of an xgboost instance that does multinomial prediction. First import some modules and load the example data:"
   ]
  },
  {
   "cell_type": "code",
   "execution_count": 3,
   "metadata": {
    "collapsed": false
   },
   "outputs": [],
   "source": [
    "import xgbtuner\n",
    "import pkg_resources\n",
    "import pandas as pd\n",
    "import xgboost as xgb\n",
    "\n",
    "f = pkg_resources.resource_filename('xgbtuner', 'data/fake_multinomial_data.csv')\n",
    "df = pd.read_csv(f)\n",
    "xdat = xgb.DMatrix(\n",
    "    data = df.drop('target', axis=1).values,\n",
    "    label= df['target'].values\n",
    "    )\n"
   ]
  },
  {
   "cell_type": "markdown",
   "metadata": {},
   "source": [
    "Next, set up the cross-validation loss function to be minimized (using the negative of the objective function if bigger is better):"
   ]
  },
  {
   "cell_type": "code",
   "execution_count": 4,
   "metadata": {
    "collapsed": false,
    "scrolled": true
   },
   "outputs": [],
   "source": [
    "loss = xgbtuner.Loss(xdat)"
   ]
  },
  {
   "cell_type": "markdown",
   "metadata": {},
   "source": [
    "`Loss` is simply a class that holds the data and includes a method to evaluate the cross validation score for a given set of parameters.  \n",
    "\n",
    "Finally, use an `xgbtuner.Tuner` instance to evaluate the loss function while iteratively searching for optimal parameters. By default, `Tuner` uses the default xgboost model settings, which uses a tree as the base learner and minimizes the mean squared error of the predictions (treating the response as numeric, not multinomial/categorical!).  \n",
    "\n",
    "To use `Tuner` coherently with multinomial regression, therefore, it is essential to pass in at least a couple of parameters. `Tuner` groups the loss function parameters into two types:\n",
    "* `fixed_params`: Overrides xgboost defaults.  Any specified values will be held constant throughout the tuning process.\n",
    "* `tuning_params`: Specifies any parameters that should be tuned.\n"
   ]
  },
  {
   "cell_type": "code",
   "execution_count": 5,
   "metadata": {
    "collapsed": false
   },
   "outputs": [
    {
     "ename": "NameError",
     "evalue": "name 'obj' is not defined",
     "output_type": "error",
     "traceback": [
      "\u001b[1;31m---------------------------------------------------------------------------\u001b[0m",
      "\u001b[1;31mNameError\u001b[0m                                 Traceback (most recent call last)",
      "\u001b[1;32m<ipython-input-5-cd5ad8c600e0>\u001b[0m in \u001b[0;36m<module>\u001b[1;34m()\u001b[0m\n\u001b[0;32m     13\u001b[0m     \u001b[1;34m'bst:min_child_weight'\u001b[0m\u001b[1;33m:\u001b[0m\u001b[1;36m3\u001b[0m\u001b[1;33m,\u001b[0m\u001b[1;33m\u001b[0m\u001b[0m\n\u001b[0;32m     14\u001b[0m }\n\u001b[1;32m---> 15\u001b[1;33m \u001b[0mobj\u001b[0m\u001b[1;33m.\u001b[0m\u001b[0mevaluate\u001b[0m\u001b[1;33m(\u001b[0m\u001b[0mparams\u001b[0m\u001b[1;33m)\u001b[0m\u001b[1;33m\u001b[0m\u001b[0m\n\u001b[0m\u001b[0;32m     16\u001b[0m \u001b[1;33m\u001b[0m\u001b[0m\n\u001b[0;32m     17\u001b[0m \u001b[1;31m#\u001b[0m\u001b[1;33m\u001b[0m\u001b[1;33m\u001b[0m\u001b[0m\n",
      "\u001b[1;31mNameError\u001b[0m: name 'obj' is not defined"
     ]
    }
   ],
   "source": [
    "fixed_params = {\n",
    "    'nfold':5,\n",
    "    'n_early_stop':20,\n",
    "    'objective':'multi:softprob',\n",
    "    'eval_metric':'mlogloss',\n",
    "    'num_class':3\n",
    "}\n",
    "# Evaluate the objective on a set of params:\n",
    "params = {\n",
    "    'num_boost_round':10,\n",
    "    'bst:max_depth':6, \n",
    "    'bst:eta':0.3,\n",
    "    'bst:min_child_weight':3,\n",
    "}\n",
    "loss.evaluate(params)\n",
    "\n",
    "# \n",
    "# \n",
    "# # Fit the final xgboost model\n",
    "# gbm = xgb.train(param, xdat, num_boost_round = wm, verbose_eval=False)\n",
    "# \n",
    "# # Use the model to make predictions on new data\n",
    "# predictions = gbm.predict(xdat)"
   ]
  },
  {
   "cell_type": "code",
   "execution_count": null,
   "metadata": {
    "collapsed": true
   },
   "outputs": [],
   "source": []
  }
 ],
 "metadata": {
  "kernelspec": {
   "display_name": "Python 3",
   "language": "python",
   "name": "python3"
  },
  "language_info": {
   "codemirror_mode": {
    "name": "ipython",
    "version": 3
   },
   "file_extension": ".py",
   "mimetype": "text/x-python",
   "name": "python",
   "nbconvert_exporter": "python",
   "pygments_lexer": "ipython3",
   "version": "3.5.1"
  }
 },
 "nbformat": 4,
 "nbformat_minor": 0
}
